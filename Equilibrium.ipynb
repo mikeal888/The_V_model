{
 "cells": [
  {
   "attachments": {},
   "cell_type": "markdown",
   "metadata": {},
   "source": [
    "Unravelling with the V-model with just one bath"
   ]
  },
  {
   "cell_type": "code",
   "execution_count": 2,
   "metadata": {},
   "outputs": [],
   "source": [
    "import numpy as np\n",
    "import matplotlib.pyplot as plt\n",
    "from qutip import *\n",
    "from _utils import *\n",
    "from FCS import *"
   ]
  },
  {
   "cell_type": "code",
   "execution_count": 5,
   "metadata": {},
   "outputs": [
    {
     "data": {
      "text/latex": [
       "Quantum object: dims = [[3], [3]], shape = (3, 3), type = oper, isherm = True $ \\\\ \\left(\\begin{matrix}0.391 & 0.0 & 0.0\\\\0.0 & 0.305 & 1.084\\times10^{-16}\\\\0.0 & 1.084\\times10^{-16} & 0.305\\\\\\end{matrix}\\right)$"
      ],
      "text/plain": [
       "Quantum object: dims = [[3], [3]], shape = (3, 3), type = oper, isherm = True\n",
       "Qobj data =\n",
       "[[3.90991315e-01+0.00000000e+00j 0.00000000e+00+0.00000000e+00j\n",
       "  0.00000000e+00+0.00000000e+00j]\n",
       " [0.00000000e+00+0.00000000e+00j 3.04504342e-01+0.00000000e+00j\n",
       "  1.08412737e-16+2.48264819e-17j]\n",
       " [0.00000000e+00+0.00000000e+00j 1.08412737e-16-2.48264819e-17j\n",
       "  3.04504342e-01+0.00000000e+00j]]"
      ]
     },
     "execution_count": 5,
     "metadata": {},
     "output_type": "execute_result"
    }
   ],
   "source": [
    "# Define system parameters\n",
    "N = 3 # Number of levels\n",
    "nu = 1 # Frequency of the system\n",
    "a = 0.01 \n",
    "delta = 0.01\n",
    "# alpha = 0.5 # No right bath for now\n",
    "betaL = 1/4\n",
    "# betaR = 1/3.99 # No right bath for now\n",
    "\n",
    "# Define the parameters for the V-model\n",
    "params = {'nu': nu, 'a': a, 'delta': delta, 'beta': betaL}\n",
    "\n",
    "# Set up the open system problem with one bath at temperature 1/betaL\n",
    "g_ops, H_uni, c_ops_uni = V_model_1bath(**params, kind='unified')\n",
    "g_ops, H_sec, c_ops_sec = V_model_1bath(**params, kind='secular')\n",
    "\n",
    "# Define the steady state density operators\n",
    "rho_ss_uni = steadystate(H_uni, c_ops_uni)\n",
    "rho_ss_sec = steadystate(H_sec, c_ops_sec)"
   ]
  },
  {
   "cell_type": "code",
   "execution_count": null,
   "metadata": {},
   "outputs": [],
   "source": []
  }
 ],
 "metadata": {
  "kernelspec": {
   "display_name": "Python 3",
   "language": "python",
   "name": "python3"
  },
  "language_info": {
   "codemirror_mode": {
    "name": "ipython",
    "version": 3
   },
   "file_extension": ".py",
   "mimetype": "text/x-python",
   "name": "python",
   "nbconvert_exporter": "python",
   "pygments_lexer": "ipython3",
   "version": "3.10.6"
  },
  "orig_nbformat": 4
 },
 "nbformat": 4,
 "nbformat_minor": 2
}
