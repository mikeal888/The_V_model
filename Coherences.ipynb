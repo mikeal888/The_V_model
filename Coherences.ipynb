{
 "cells": [
  {
   "attachments": {},
   "cell_type": "markdown",
   "metadata": {},
   "source": [
    "# Understanding the coherence in the V model"
   ]
  },
  {
   "cell_type": "code",
   "execution_count": 1,
   "metadata": {},
   "outputs": [],
   "source": [
    "import numpy as np\n",
    "import matplotlib.pyplot as plt\n",
    "from qutip import *\n",
    "from _utils import *\n",
    "from FCS import *"
   ]
  },
  {
   "cell_type": "code",
   "execution_count": 5,
   "metadata": {},
   "outputs": [],
   "source": [
    "# Define system parameters\n",
    "N = 3 # Number of levels\n",
    "nu = 1 # Frequency of the system\n",
    "a = 0.01 \n",
    "delta = 0.01\n",
    "alpha = 0.5\n",
    "betaL = 1/4\n",
    "betaR = 1/3.99\n",
    "\n",
    "# Define the parameters for the V-model\n",
    "params = {'nu': nu, 'a': a, 'delta': delta, 'beta': [betaL, betaR], 'alpha': alpha}\n",
    "\n",
    "# Define the V-model\n",
    "g_ops, H_uni, c_ops_uni = V_model_2bath(**params, kind='unified')\n",
    "rho_ss_uni = steadystate(H_uni, c_ops_uni)"
   ]
  },
  {
   "cell_type": "code",
   "execution_count": 3,
   "metadata": {},
   "outputs": [
    {
     "data": {
      "text/latex": [
       "Quantum object: dims = [[3], [3]], shape = (3, 3), type = oper, isherm = True $ \\\\ \\left(\\begin{matrix}0.391 & 0.0 & 0.0\\\\0.0 & 0.304 & (2.483\\times10^{-05}+3.382\\times10^{-06}j)\\\\0.0 & (2.483\\times10^{-05}-3.382\\times10^{-06}j) & 0.304\\\\\\end{matrix}\\right)$"
      ],
      "text/plain": [
       "Quantum object: dims = [[3], [3]], shape = (3, 3), type = oper, isherm = True\n",
       "Qobj data =\n",
       "[[3.91062388e-01+0.00000000e+00j 0.00000000e+00+0.00000000e+00j\n",
       "  0.00000000e+00+0.00000000e+00j]\n",
       " [0.00000000e+00+0.00000000e+00j 3.04445788e-01+0.00000000e+00j\n",
       "  2.48271261e-05+3.38239548e-06j]\n",
       " [0.00000000e+00+0.00000000e+00j 2.48271261e-05-3.38239548e-06j\n",
       "  3.04491824e-01+0.00000000e+00j]]"
      ]
     },
     "execution_count": 3,
     "metadata": {},
     "output_type": "execute_result"
    }
   ],
   "source": []
  },
  {
   "cell_type": "code",
   "execution_count": 4,
   "metadata": {},
   "outputs": [
    {
     "data": {
      "text/latex": [
       "Quantum object: dims = [[3], [3]], shape = (3, 3), type = oper, isherm = True $ \\\\ \\left(\\begin{matrix}0.391 & 0.0 & 0.0\\\\0.0 & 0.304 & 0.0\\\\0.0 & 0.0 & 0.305\\\\\\end{matrix}\\right)$"
      ],
      "text/plain": [
       "Quantum object: dims = [[3], [3]], shape = (3, 3), type = oper, isherm = True\n",
       "Qobj data =\n",
       "[[0.39104346 0.         0.        ]\n",
       " [0.         0.30444968 0.        ]\n",
       " [0.         0.         0.30450687]]"
      ]
     },
     "execution_count": 4,
     "metadata": {},
     "output_type": "execute_result"
    }
   ],
   "source": [
    "rho_ss_sec"
   ]
  },
  {
   "cell_type": "code",
   "execution_count": null,
   "metadata": {},
   "outputs": [],
   "source": []
  }
 ],
 "metadata": {
  "kernelspec": {
   "display_name": "base",
   "language": "python",
   "name": "python3"
  },
  "language_info": {
   "codemirror_mode": {
    "name": "ipython",
    "version": 3
   },
   "file_extension": ".py",
   "mimetype": "text/x-python",
   "name": "python",
   "nbconvert_exporter": "python",
   "pygments_lexer": "ipython3",
   "version": "3.10.9"
  },
  "orig_nbformat": 4
 },
 "nbformat": 4,
 "nbformat_minor": 2
}
